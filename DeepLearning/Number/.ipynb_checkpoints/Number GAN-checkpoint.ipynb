{
 "cells": [
  {
   "cell_type": "code",
   "execution_count": null,
   "metadata": {
    "_cell_guid": "b1076dfc-b9ad-4769-8c92-a6c4dae69d19",
    "_uuid": "8f2839f25d086af736a60e9eeb907d3b93b6e0e5"
   },
   "outputs": [],
   "source": [
    "cd /kaggle/input/trainXX"
   ]
  },
  {
   "cell_type": "code",
   "execution_count": null,
   "metadata": {},
   "outputs": [],
   "source": [
    "path = '/kaggle/input/trainXX'"
   ]
  },
  {
   "cell_type": "code",
   "execution_count": null,
   "metadata": {},
   "outputs": [],
   "source": [
    "import numpy as np\n",
    "from keras.datasets import mnist\n",
    "from keras.models import Model\n",
    "from keras.layers import Dense, Activation, Dropout, Flatten, Conv2D, MaxPooling2D,LeakyReLU,Conv2DTranspose\n",
    "from keras.layers import Activation\n",
    "from keras.optimizers import Adam\n",
    "from keras.layers.normalization import BatchNormalization\n",
    "from keras.initializers import RandomNormal\n",
    "from keras.utils import to_categorical\n",
    "from keras.layers import Input, Dense\n",
    "from keras.layers import Concatenate\n",
    "\n",
    "import matplotlib.pyplot as plt\n",
    "%matplotlib inline"
   ]
  },
  {
   "cell_type": "code",
   "execution_count": null,
   "metadata": {},
   "outputs": [],
   "source": [
    "from keras.preprocessing import image\n",
    "from keras.preprocessing.image import ImageDataGenerator\n",
    "train_datagen = ImageDataGenerator(rescale = 1./255,)\n",
    "                                   \n",
    "test_datagen = ImageDataGenerator(rescale = 1./255)"
   ]
  },
  {
   "cell_type": "code",
   "execution_count": null,
   "metadata": {},
   "outputs": [],
   "source": [
    "training_set = train_datagen.flow_from_directory(path,\n",
    "                                                target_size=(28,56),\n",
    "                                                class_mode = 'categorical',\n",
    "                                                shuffle=True,color_mode='grayscale')"
   ]
  },
  {
   "cell_type": "code",
   "execution_count": null,
   "metadata": {},
   "outputs": [],
   "source": [
    "\n",
    "# define the discriminator model\n",
    "def define_discriminator(image_shape=(28,28,1,)):\n",
    "    in_image = Input(shape=image_shape)\n",
    "    out_image = Input(shape=image_shape)\n",
    "    init = RandomNormal(stddev=0.02)\n",
    "    merged = Concatenate(axis=-1)([in_image, out_image])\n",
    "    \n",
    "    \n",
    "    d = Conv2D(64, (3,3), kernel_initializer=init)(merged)\n",
    "    d= LeakyReLU(alpha=0.2)(d)\n",
    "    d = Conv2D(128, (3,3), kernel_initializer=init)(d)\n",
    "    d = BatchNormalization()(d)\n",
    "    d = LeakyReLU(alpha=0.2)(d)\n",
    "    d = Dropout(0.5)(d)\n",
    "    d = MaxPooling2D(pool_size=2,strides=2)(d)\n",
    "  \n",
    "    d = Conv2D(196, (3,3), kernel_initializer=init)(d)\n",
    "    d = BatchNormalization()(d)\n",
    "    d = LeakyReLU(alpha=0.2)(d)\n",
    "    d = Dropout(0.5)(d)\n",
    "    d = MaxPooling2D(pool_size=2,strides=2)(d)\n",
    "  \n",
    "    d = Conv2D(256, (3,3), kernel_initializer=init)(d)\n",
    "    d = BatchNormalization()(d)\n",
    "    d = LeakyReLU(alpha=0.2)(d)\n",
    "    d = Dropout(0.5)(d)\n",
    "    d = MaxPooling2D(pool_size=2,strides=2)(d)\n",
    "  \n",
    "    d = Flatten()(d)\n",
    "    d = Dense(256, activation='relu')(d)\n",
    "    d = BatchNormalization()(d)\n",
    "    d = LeakyReLU(alpha=0.2)(d)\n",
    "    d = Dropout(0.5)(d)\n",
    "  \n",
    "    d = Dense(128)(d)\n",
    "    d = BatchNormalization()(d)\n",
    "    d = LeakyReLU(alpha=0.2)(d)\n",
    "    d = Dropout(0.5)(d)\n",
    "  \n",
    "    d = Dense(64)(d)\n",
    "    d = BatchNormalization()(d)\n",
    "    d = LeakyReLU(alpha=0.2)(d)\n",
    "    d = Dropout(0.5)(d)\n",
    "    \n",
    "    d = Dense(32)(d)\n",
    "    d = BatchNormalization()(d)\n",
    "    d = LeakyReLU(alpha=0.2)(d)\n",
    "    \n",
    "    d = Dense(1)(d) \n",
    "    patch_out = Activation('sigmoid')(d)\n",
    "  \n",
    "    model = Model([in_image, out_image], patch_out)\n",
    "    print('Compiling Discriminator')\n",
    "    # compile model\n",
    "    opt = Adam(lr=0.0002, beta_1=0.5)\n",
    "    model.compile(loss='binary_crossentropy', optimizer=opt, metrics=['accuracy'], loss_weights=[0.5])\n",
    "    model.summary()\n",
    "    return model"
   ]
  },
  {
   "cell_type": "code",
   "execution_count": null,
   "metadata": {},
   "outputs": [],
   "source": [
    "def define_generator(image_shape=(28,28,1,)):\n",
    "    in_image = Input(shape=image_shape)\n",
    "    g = Conv2D(64, kernel_size=3, activation='relu',padding='same', input_shape=(28,28,1))(in_image)\n",
    "    g = BatchNormalization()(g)\n",
    "    \n",
    "    g = Conv2D(128, kernel_size=3, strides=(2, 2))(g)\n",
    "    g = BatchNormalization()(g)\n",
    "    g = LeakyReLU(alpha=0.2)(g)\n",
    "    g = Dropout(0.25)(g)\n",
    "    \n",
    "    g = Conv2D(196, kernel_size=3, strides=(2, 2))(g)\n",
    "    g = BatchNormalization()(g)\n",
    "    g = LeakyReLU(alpha=0.2)(g)\n",
    "    g = Dropout(0.25)(g)\n",
    "    \n",
    "    g = Conv2D(256, kernel_size=3, strides=(2, 2))(g)\n",
    "    g = BatchNormalization()(g)\n",
    "    g = LeakyReLU(alpha=0.2)(g)\n",
    "    g = Dropout(0.25)(g)\n",
    "    \n",
    "    g = Conv2D(512, kernel_size=2, strides=(2, 2))(g)\n",
    "    g = BatchNormalization()(g)\n",
    "    g = LeakyReLU(alpha=0.2)(g)\n",
    "    g = Dropout(0.25)(g)\n",
    "    \n",
    "    g = Conv2DTranspose(512, kernel_size=3, strides=(2, 2))(g)\n",
    "    g = BatchNormalization()(g)\n",
    "    g = LeakyReLU(alpha=0.2)(g)\n",
    "    g = Dropout(0.25)(g)\n",
    "    \n",
    "    g = Conv2DTranspose(256, kernel_size=2, strides=(2, 2))(g)\n",
    "    g = BatchNormalization()(g)\n",
    "    g = LeakyReLU(alpha=0.2)(g)\n",
    "    g = Dropout(0.25)(g)\n",
    "    \n",
    "    g = Conv2DTranspose(128, kernel_size=3, strides=(2, 2))(g)\n",
    "    g = BatchNormalization()(g)\n",
    "    g = LeakyReLU(alpha=0.2)(g)\n",
    "    g = Dropout(0.25)(g)\n",
    "    \n",
    "    g = Conv2DTranspose(1, kernel_size=4, strides=(2, 2))(g)\n",
    "    out_image = Activation('tanh')(g)\n",
    "    model = Model(in_image, out_image)\n",
    "    print('Compiling generator')\n",
    "    model.summary()\n",
    "    return model"
   ]
  },
  {
   "cell_type": "code",
   "execution_count": null,
   "metadata": {},
   "outputs": [],
   "source": [
    "discriminator = define_discriminator()"
   ]
  },
  {
   "cell_type": "code",
   "execution_count": null,
   "metadata": {},
   "outputs": [],
   "source": [
    "generator = define_generator()"
   ]
  },
  {
   "cell_type": "code",
   "execution_count": null,
   "metadata": {},
   "outputs": [],
   "source": [
    "def define_gan(g_model, d_model, image_shape=(28,28,1,)):\n",
    "    # make weights in the discriminator not trainable\n",
    "    d_model.trainable = False\n",
    "    # define the source image\n",
    "    in_src = Input(shape=image_shape)\n",
    "    # connect the source image to the generator input\n",
    "    gen_out = g_model(in_src)\n",
    "    # connect the source input and generator output to the discriminator input\n",
    "    dis_out = d_model([in_src, gen_out])\n",
    "    # src image as input, generated image and classification output\n",
    "    model = Model(in_src, [dis_out, gen_out])\n",
    "    # compile model\n",
    "    opt = Adam(lr=0.0002, beta_1=0.5)\n",
    "    model.compile(loss=['binary_crossentropy', 'mae'], optimizer=opt, loss_weights=[1,100])\n",
    "    return model"
   ]
  },
  {
   "cell_type": "code",
   "execution_count": null,
   "metadata": {},
   "outputs": [],
   "source": [
    "def generate_fake_samples(g_model, image_hand, patch_shape=1):\n",
    "    # generate fake instance\n",
    "    X = g_model.predict(image_hand)\n",
    "    # create 'fake' class labels (0)\n",
    "    y = np.zeros((len(X), patch_shape))\n",
    "    return X, y"
   ]
  },
  {
   "cell_type": "code",
   "execution_count": null,
   "metadata": {},
   "outputs": [],
   "source": [
    "def generat_real_samples( patch_shape=1):\n",
    "    X,y = training_set.next()\n",
    "    real_print,real_hand = X[:,:,:28],X[:,:,28:]\n",
    "    real_hand = np.reshape(real_hand,[-1, 28, 28, 1])\n",
    "    real_print = np.reshape(real_print,[-1, 28, 28, 1])\n",
    "    real_label = np.ones((len(X), patch_shape))\n",
    "    return [real_hand,real_print],real_label"
   ]
  },
  {
   "cell_type": "code",
   "execution_count": null,
   "metadata": {},
   "outputs": [],
   "source": [
    "I = training_set.n//training_set.batch_size\n",
    "I"
   ]
  },
  {
   "cell_type": "code",
   "execution_count": null,
   "metadata": {},
   "outputs": [],
   "source": [
    "gan_model = define_gan(generator,discriminator)"
   ]
  },
  {
   "cell_type": "code",
   "execution_count": null,
   "metadata": {},
   "outputs": [],
   "source": [
    "for j in range(100):\n",
    "    training_set = train_datagen.flow_from_directory(path,\n",
    "                                                target_size=(28,56),\n",
    "                                                class_mode = 'categorical',\n",
    "                                                shuffle=True,color_mode='grayscale')\n",
    "    print('Epoch {}'.format(j))\n",
    "    \n",
    "    for i in range(I):\n",
    "        #generating real sample\n",
    "        [real_hand,real_print],real_label = generat_real_samples()\n",
    "        #generating fake sample\n",
    "        fake_print,fake_label = generate_fake_samples(generator,real_hand)\n",
    "        #update discriminator for real sample\n",
    "        d_loss1 = discriminator.train_on_batch([real_hand,real_print,], real_label)\n",
    "        #update discriminator for fake sample\n",
    "        d_loss2 = discriminator.train_on_batch([fake_print,real_print,], fake_label)\n",
    "        # update the generator\n",
    "        g_loss, _, _ = gan_model.train_on_batch(real_hand, [real_label, real_print])\n",
    "        #print performance\n",
    "        print(\"step {}: real_loss: {}---fake_loss: {}---GAN_LOSS: {}\".format(i+1, d_loss1,d_loss2,g_loss))\n",
    "        if i % 10 == 0:\n",
    "            #filename = '/GAN/model_%06d' % (i+1)\n",
    "            #g_model.save(filename+'gan.h5')\n",
    "            #generator.save(filename+'generator.h5')\n",
    "            #discriminator.save(filename+'discriminator.h5')\n",
    "            a = np.random.randint(1,30)\n",
    "            i = real_print[a]\n",
    "            j = np.reshape(i,(28,28))\n",
    "            plt.subplot(1,3,1)\n",
    "            plt.imshow(j,cmap='gray')\n",
    "            i = real_hand[a]\n",
    "            j = np.reshape(i,(28,28))\n",
    "            plt.subplot(1,3,2)\n",
    "            plt.imshow(j,cmap='gray')\n",
    "            i = fake_print[a]\n",
    "            j = np.reshape(i,(28,28))\n",
    "            plt.subplot(1,3,3)\n",
    "            plt.imshow(j,cmap='gray')\n",
    "            plt.show()\n",
    "        "
   ]
  },
  {
   "cell_type": "code",
   "execution_count": null,
   "metadata": {},
   "outputs": [],
   "source": []
  },
  {
   "cell_type": "code",
   "execution_count": null,
   "metadata": {},
   "outputs": [],
   "source": [
    "\n",
    "training_set = train_datagen.flow_from_directory(path,\n",
    "                                            target_size=(28,56),\n",
    "                                            class_mode = 'categorical',\n",
    "                                            shuffle=True,color_mode='grayscale')\n",
    "[real_hand,real_print],real_label = generat_real_samples()\n",
    "fake_print,fake_label = generate_fake_samples(generator,real_hand)\n",
    "for a in range(32):\n",
    "    i = real_print[a]\n",
    "    j = np.reshape(i,(28,28))\n",
    "    plt.subplot(1,3,1)\n",
    "    plt.imshow(j,cmap='gray')\n",
    "    i = real_hand[a]\n",
    "    j = np.reshape(i,(28,28))\n",
    "    plt.subplot(1,3,2)\n",
    "    plt.imshow(j,cmap='gray')\n",
    "    i = fake_print[a]\n",
    "    j = np.reshape(i,(28,28))\n",
    "    plt.subplot(1,3,3)\n",
    "    plt.imshow(j,cmap='gray')\n",
    "    plt.show()\n",
    "    "
   ]
  },
  {
   "cell_type": "code",
   "execution_count": null,
   "metadata": {},
   "outputs": [],
   "source": [
    "\n",
    "gan_model.save('/kaggle/working/gan_model.h5')\n",
    "generator.save('/kaggle/working/generator.h5')\n",
    "discriminator.save('/kaggle/working/discriminator.h5')"
   ]
  },
  {
   "cell_type": "code",
   "execution_count": 54,
   "metadata": {},
   "outputs": [],
   "source": [
    "import os\n",
    "os.chdir(r'/kaggle/working')"
   ]
  },
  {
   "cell_type": "code",
   "execution_count": 59,
   "metadata": {},
   "outputs": [
    {
     "data": {
      "text/html": [
       "<a href='gan_model.h5' target='_blank'>gan_model.h5</a><br>"
      ],
      "text/plain": [
       "/kaggle/working/gan_model.h5"
      ]
     },
     "execution_count": 59,
     "metadata": {},
     "output_type": "execute_result"
    }
   ],
   "source": [
    "from IPython.display import FileLink\n",
    "FileLink(r'gan_model.h5')"
   ]
  },
  {
   "cell_type": "code",
   "execution_count": null,
   "metadata": {},
   "outputs": [],
   "source": [
    "FileLink(r'generator.h5')"
   ]
  },
  {
   "cell_type": "code",
   "execution_count": 58,
   "metadata": {},
   "outputs": [
    {
     "data": {
      "text/html": [
       "<a href='discriminator.h5' target='_blank'>discriminator.h5</a><br>"
      ],
      "text/plain": [
       "/kaggle/working/discriminator.h5"
      ]
     },
     "execution_count": 58,
     "metadata": {},
     "output_type": "execute_result"
    }
   ],
   "source": [
    "FileLink(r'discriminator.h5')"
   ]
  },
  {
   "cell_type": "code",
   "execution_count": null,
   "metadata": {},
   "outputs": [],
   "source": []
  }
 ],
 "metadata": {
  "kernelspec": {
   "display_name": "Python 3",
   "language": "python",
   "name": "python3"
  },
  "language_info": {
   "codemirror_mode": {
    "name": "ipython",
    "version": 3
   },
   "file_extension": ".py",
   "mimetype": "text/x-python",
   "name": "python",
   "nbconvert_exporter": "python",
   "pygments_lexer": "ipython3",
   "version": "3.6.9"
  }
 },
 "nbformat": 4,
 "nbformat_minor": 1
}
